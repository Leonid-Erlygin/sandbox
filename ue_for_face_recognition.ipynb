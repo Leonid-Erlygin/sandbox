{
 "cells": [
  {
   "cell_type": "code",
   "execution_count": 18,
   "metadata": {},
   "outputs": [],
   "source": [
    "import numpy as np\n",
    "import matplotlib.pyplot as plt\n",
    "import scipy\n",
    "from scipy.stats import multivariate_normal"
   ]
  },
  {
   "attachments": {},
   "cell_type": "markdown",
   "metadata": {},
   "source": [
    "## Let us generate simple dataset for UE methods testing"
   ]
  },
  {
   "attachments": {},
   "cell_type": "markdown",
   "metadata": {},
   "source": [
    "## 0) Generate gaussian 2d random variable"
   ]
  },
  {
   "cell_type": "code",
   "execution_count": 5,
   "metadata": {},
   "outputs": [],
   "source": [
    "class_to_mean = {0: [2, -2], 1: [0.5, 2], 2: [-0.5, -0.2]}\n",
    "class_to_cov = {\n",
    "    0: [[2.0, 0.3], [0.3, 1.5]],\n",
    "    1: [[3.0, 0], [0, 0.5]],\n",
    "    2: [[2.0, 0.3], [0.3, 0.5]],\n",
    "}\n",
    "class_to_color = {0: \"red\", 1: \"green\", 2: \"blue\"}"
   ]
  },
  {
   "cell_type": "code",
   "execution_count": 6,
   "metadata": {},
   "outputs": [],
   "source": [
    "class_to_normal = {\n",
    "    id: multivariate_normal(class_to_mean[id], class_to_cov[id])\n",
    "    for id in class_to_mean.keys()\n",
    "}"
   ]
  },
  {
   "cell_type": "code",
   "execution_count": 7,
   "metadata": {},
   "outputs": [],
   "source": [
    "np.random.seed(seed=3)\n",
    "n_points = 50\n",
    "class_to_samples = {\n",
    "    id: class_to_normal[id].rvs(n_points) for id in class_to_mean.keys()\n",
    "}"
   ]
  },
  {
   "cell_type": "code",
   "execution_count": 8,
   "metadata": {},
   "outputs": [
    {
     "data": {
      "image/png": "[encoded data removed]",
      "text/plain": [
       "<Figure size 640x480 with 1 Axes>"
      ]
     },
     "metadata": {},
     "output_type": "display_data"
    }
   ],
   "source": [
    "for id in class_to_mean.keys():\n",
    "    plt.scatter(\n",
    "        class_to_samples[id][:, 0], class_to_samples[id][:, 1], c=class_to_color[id]\n",
    "    )"
   ]
  },
  {
   "attachments": {},
   "cell_type": "markdown",
   "metadata": {},
   "source": [
    "## Compute softmax scores"
   ]
  },
  {
   "cell_type": "code",
   "execution_count": 25,
   "metadata": {},
   "outputs": [],
   "source": [
    "import itertools\n",
    "\n",
    "sample_to_distances = {}\n",
    "sample_to_softmax = {}\n",
    "for id, sample in itertools.product(class_to_mean.keys(), range(n_points)):\n",
    "    dist = []\n",
    "    for new_id in class_to_mean.keys():\n",
    "        dist.append(\n",
    "            np.linalg.norm(class_to_samples[id][sample] - class_to_mean[new_id])\n",
    "        )\n",
    "    sample_to_distances[(id, sample)] = np.array(dist)\n",
    "    sample_to_softmax[(id, sample)] = scipy.special.softmax(\n",
    "        -sample_to_distances[(id, sample)]\n",
    "    )"
   ]
  },
  {
   "cell_type": "code",
   "execution_count": null,
   "metadata": {},
   "outputs": [],
   "source": []
  }
 ],
 "metadata": {
  "kernelspec": {
   "display_name": ".venv",
   "language": "python",
   "name": "python3"
  },
  "language_info": {
   "codemirror_mode": {
    "name": "ipython",
    "version": 3
   },
   "file_extension": ".py",
   "mimetype": "text/x-python",
   "name": "python",
   "nbconvert_exporter": "python",
   "pygments_lexer": "ipython3",
   "version": "3.10.6 (main, Nov 14 2022, 16:10:14) [GCC 11.3.0]"
  },
  "orig_nbformat": 4,
  "vscode": {
   "interpreter": {
    "hash": "540d7b5bdaac7340cadc51e2df4562c5f7703a744d5e52bea774f9664954281a"
   }
  }
 },
 "nbformat": 4,
 "nbformat_minor": 2
}
